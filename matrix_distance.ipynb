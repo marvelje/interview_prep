{
 "cells": [
  {
   "cell_type": "code",
   "execution_count": 23,
   "metadata": {},
   "outputs": [],
   "source": [
    "import numpy as np"
   ]
  },
  {
   "cell_type": "code",
   "execution_count": 13,
   "metadata": {},
   "outputs": [],
   "source": [
    "def get_dist(arr):\n",
    "    \n",
    "    # Create array of ones of the same shape as the matrix\n",
    "    ones_arr = np.ones(arr.shape)\n",
    "    \n",
    "    # Create a \"distance array\" to store the distance. First step is to subtract the array of ones\n",
    "    # Where the value is 0, there's a one in that location.\n",
    "    dist_arr = arr - ones_arr\n",
    "    \n",
    "    # Define maximum distance possible for a given array shape\n",
    "    max_dist = arr.shape[0] + arr.shape[1] - 2\n",
    "\n",
    "    \n",
    "    # Iterate through the range up to max distance. Locate each 1 then find the distance to the closest non-one\n",
    "    # in increments\n",
    "    for step in range(max_dist):\n",
    "\n",
    "        # Step is 0 indexed so add 1.\n",
    "        step += 1\n",
    "\n",
    "        # Loop through each element in the matrix\n",
    "        for ix, iy in np.ndindex(dist_arr.shape):\n",
    "            # If not 0 then continue\n",
    "            if dist_arr[ix, iy] < 0:\n",
    "                continue\n",
    "\n",
    "            # Will only get to this part of the loop if element is 0 (i.e., there was previously a 1)\n",
    "            # This first part will also override any incorrect distance created by the diagonal checks\n",
    "            \n",
    "            # Check down\n",
    "            try:\n",
    "                if (dist_arr[ix + step, iy] < 0) or (dist_arr[ix + step, iy] > step):\n",
    "                    dist_arr[ix + step, iy] = step\n",
    "            except IndexError:\n",
    "                pass\n",
    "\n",
    "            # Check up\n",
    "            try:\n",
    "                if (dist_arr[ix - step, iy]) < 0 or (dist_arr[ix - step, iy] > step):\n",
    "                    dist_arr[ix - step, iy] = step\n",
    "            except IndexError:\n",
    "                pass\n",
    "\n",
    "            # Check to the right\n",
    "            try:\n",
    "                if (dist_arr[ix, iy + step] < 0) or (dist_arr[ix, iy + step] > step):\n",
    "                    dist_arr[ix, iy + step] = step\n",
    "            except IndexError:\n",
    "                pass\n",
    "\n",
    "            # Check to the left\n",
    "            try:\n",
    "                if (dist_arr[ix, iy - step] < 0) or (dist_arr[ix, iy - step] > step):\n",
    "                    dist_arr[ix, iy - step] = step\n",
    "            except IndexError:\n",
    "                pass\n",
    "\n",
    "            # Diagonal up to the right\n",
    "            for diag_step in range(step):\n",
    "                # Zero indexed so need to add one\n",
    "                diag_step += 1\n",
    "                try:\n",
    "                    if dist_arr[ix + step, iy + diag_step] < 0 :\n",
    "                        dist_arr[ix + step, iy + diag_step] = (step + diag_step)\n",
    "                except IndexError:\n",
    "                    pass\n",
    "\n",
    "            # Diagonal down to the right\n",
    "            for diag_step in range(step):\n",
    "                # Zero indexed so need to add one\n",
    "                diag_step += 1\n",
    "                try:\n",
    "                    if dist_arr[ix - step, iy + diag_step] < 0:\n",
    "                        dist_arr[ix - step, iy + diag_step] = (step + diag_step)\n",
    "                except IndexError:\n",
    "                    pass\n",
    "\n",
    "            # Diagonal up to the left\n",
    "            for diag_step in range(step):\n",
    "                # Zero indexed so need to add one\n",
    "                diag_step += 1\n",
    "                try:\n",
    "                    if dist_arr[ix + step, iy - diag_step] < 0:\n",
    "                        dist_arr[ix + step, iy - diag_step] = (step + diag_step)\n",
    "                except IndexError:\n",
    "                    pass\n",
    "\n",
    "            # Diagonal down to the left\n",
    "            for diag_step in range(step):\n",
    "                # Zero indexed so need to add one\n",
    "                diag_step += 1\n",
    "                try:\n",
    "                    if dist_arr[ix - step, iy - diag_step] < 0:\n",
    "                        dist_arr[ix - step, iy - diag_step] = (step + diag_step)\n",
    "                except IndexError:\n",
    "                    pass\n",
    "    \n",
    "    return dist_arr"
   ]
  },
  {
   "cell_type": "code",
   "execution_count": 24,
   "metadata": {},
   "outputs": [],
   "source": [
    "test_matrix = np.array([[1,0,0], [0,1,1], [0,0,0], [0,0,0]])"
   ]
  },
  {
   "cell_type": "code",
   "execution_count": 25,
   "metadata": {},
   "outputs": [],
   "source": [
    "dist_arr = get_dist(test_matrix)"
   ]
  },
  {
   "cell_type": "code",
   "execution_count": 26,
   "metadata": {},
   "outputs": [
    {
     "data": {
      "text/plain": [
       "array([[1, 0, 0],\n",
       "       [0, 1, 1],\n",
       "       [0, 0, 0],\n",
       "       [0, 0, 0]])"
      ]
     },
     "execution_count": 26,
     "metadata": {},
     "output_type": "execute_result"
    }
   ],
   "source": [
    "test_matrix"
   ]
  },
  {
   "cell_type": "code",
   "execution_count": 27,
   "metadata": {},
   "outputs": [
    {
     "data": {
      "text/plain": [
       "array([[0., 1., 1.],\n",
       "       [1., 0., 0.],\n",
       "       [1., 1., 1.],\n",
       "       [1., 1., 1.]])"
      ]
     },
     "execution_count": 27,
     "metadata": {},
     "output_type": "execute_result"
    }
   ],
   "source": [
    "dist_arr"
   ]
  },
  {
   "cell_type": "code",
   "execution_count": 21,
   "metadata": {},
   "outputs": [],
   "source": [
    "# Python3 program to find distance of\n",
    "# nearest cell having 1 in a binary matrix.\n",
    " \n",
    "# Print distance of nearest cell\n",
    "# having 1 for each cell.\n",
    "def printDistance(mat):\n",
    "    global N, M\n",
    "    ans = [[None] * M for i in range(N)]\n",
    " \n",
    "    # Initialize the answer matrix\n",
    "    # with INT_MAX.\n",
    "    for i in range(N):\n",
    "        for j in range(M):\n",
    "            ans[i][j] = 999999999999\n",
    " \n",
    "    # For each cell\n",
    "    for i in range(N):\n",
    "        for j in range(M):\n",
    "             \n",
    "            # Traversing the whole matrix\n",
    "            # to find the minimum distance.\n",
    "            for k in range(N):\n",
    "                for l in range(M):\n",
    "                     \n",
    "                    # If cell contain 1, check\n",
    "                    # for minimum distance.\n",
    "                    if (mat[k][l] == 1):\n",
    "                        ans[i][j] = min(ans[i][j],\n",
    "                                    abs(i - k) + abs(j - l))\n",
    " \n",
    "    # Printing the answer.\n",
    "    for i in range(N):\n",
    "        for j in range(M):\n",
    "            print(ans[i][j], end = \" \")\n",
    "        print()"
   ]
  },
  {
   "cell_type": "code",
   "execution_count": 22,
   "metadata": {},
   "outputs": [
    {
     "name": "stdout",
     "output_type": "stream",
     "text": [
      "3 2 1 0 \n",
      "2 1 0 0 \n",
      "1 0 0 1 \n"
     ]
    }
   ],
   "source": [
    "# Driver Code\n",
    "N = 3\n",
    "M = 4\n",
    "mat = [[0, 0, 0, 1],\n",
    "       [0, 0, 1, 1],\n",
    "       [0, 1, 1, 0]]\n",
    " \n",
    "printDistance(mat)"
   ]
  },
  {
   "cell_type": "code",
   "execution_count": null,
   "metadata": {},
   "outputs": [],
   "source": []
  }
 ],
 "metadata": {
  "kernelspec": {
   "display_name": "Python (learn-env)",
   "language": "python",
   "name": "learn-env"
  },
  "language_info": {
   "codemirror_mode": {
    "name": "ipython",
    "version": 3
   },
   "file_extension": ".py",
   "mimetype": "text/x-python",
   "name": "python",
   "nbconvert_exporter": "python",
   "pygments_lexer": "ipython3",
   "version": "3.8.5"
  }
 },
 "nbformat": 4,
 "nbformat_minor": 4
}
